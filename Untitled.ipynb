{
 "cells": [
  {
   "cell_type": "code",
   "execution_count": 2,
   "id": "f8e3f11c-f976-4c43-8e52-9799cf759942",
   "metadata": {},
   "outputs": [],
   "source": [
    "import lxml.etree as ET"
   ]
  },
  {
   "cell_type": "code",
   "execution_count": 3,
   "id": "c552b00d-38ee-4f97-860e-736d26632e45",
   "metadata": {},
   "outputs": [],
   "source": [
    "def parse_tcx(file_path):\n",
    "    tree = ET.parse(file_path)\n",
    "    root = tree.getroot()\n",
    "    ns = {'ns': 'http://www.garmin.com/xmlschemas/TrainingCenterDatabase/v2'}\n",
    "\n",
    "    coordinates = []\n",
    "\n",
    "    for trackpoint in root.findall('.//ns:Trackpoint', ns):\n",
    "        lat = trackpoint.find('.//ns:LatitudeDegrees', ns)\n",
    "        lon = trackpoint.find('.//ns:LongitudeDegrees', ns)\n",
    "        if lat is not None and lon is not None:\n",
    "            coordinates.append((float(lat.text), float(lon.text)))\n",
    "\n",
    "    return coordinates"
   ]
  },
  {
   "cell_type": "code",
   "execution_count": 5,
   "id": "23c2e2bc-97b6-4cf9-b8bf-585ebb09aa6c",
   "metadata": {},
   "outputs": [],
   "source": [
    "# Replace with your TCX file path\n",
    "file_path = 'Centennial Loop.tcx'\n",
    "coordinates = parse_tcx(file_path)"
   ]
  },
  {
   "cell_type": "code",
   "execution_count": 6,
   "id": "0de7c5b7-53eb-4e43-8e5e-736a39774f7c",
   "metadata": {},
   "outputs": [
    {
     "data": {
      "text/plain": [
       "[(36.14824, -86.8146),\n",
       " (36.14818, -86.81456),\n",
       " (36.14807, -86.81444),\n",
       " (36.14763, -86.81404),\n",
       " (36.14742, -86.81378),\n",
       " (36.14693, -86.81345),\n",
       " (36.14687, -86.81344),\n",
       " (36.14668, -86.81342),\n",
       " (36.14662, -86.8134),\n",
       " (36.14657, -86.81332),\n",
       " (36.14654, -86.81323),\n",
       " (36.14664, -86.81296),\n",
       " (36.14673, -86.81286),\n",
       " (36.14695, -86.81268),\n",
       " (36.14714, -86.81259),\n",
       " (36.14721, -86.8125),\n",
       " (36.1471, -86.81243),\n",
       " (36.14721, -86.8125),\n",
       " (36.14736, -86.81228),\n",
       " (36.14734, -86.81211),\n",
       " (36.14737, -86.81188),\n",
       " (36.14769, -86.81116),\n",
       " (36.14778, -86.81103),\n",
       " (36.14799, -86.81076),\n",
       " (36.14812, -86.81062),\n",
       " (36.14818, -86.8106),\n",
       " (36.14842, -86.81064),\n",
       " (36.14858, -86.81056),\n",
       " (36.14908, -86.81046),\n",
       " (36.14922, -86.81052),\n",
       " (36.14928, -86.81058),\n",
       " (36.14942, -86.81064),\n",
       " (36.14963, -86.81085),\n",
       " (36.14975, -86.81105),\n",
       " (36.14983, -86.81113),\n",
       " (36.1499, -86.81128),\n",
       " (36.15003, -86.81139),\n",
       " (36.15011, -86.81143),\n",
       " (36.15026, -86.81157),\n",
       " (36.15032, -86.81166),\n",
       " (36.15046, -86.81176),\n",
       " (36.15052, -86.81183),\n",
       " (36.15066, -86.81191),\n",
       " (36.1508, -86.81206),\n",
       " (36.15106, -86.8123),\n",
       " (36.15127, -86.8125),\n",
       " (36.15141, -86.81259),\n",
       " (36.15151, -86.81264),\n",
       " (36.15173, -86.81283),\n",
       " (36.15199, -86.81292),\n",
       " (36.15206, -86.81305),\n",
       " (36.15213, -86.81325),\n",
       " (36.15209, -86.81336),\n",
       " (36.15193, -86.81353),\n",
       " (36.15178, -86.81381),\n",
       " (36.15144, -86.81426),\n",
       " (36.1514, -86.81441),\n",
       " (36.15133, -86.81452),\n",
       " (36.15116, -86.81458),\n",
       " (36.15108, -86.81461),\n",
       " (36.15078, -86.81447),\n",
       " (36.15048, -86.81437),\n",
       " (36.1504, -86.81456),\n",
       " (36.15028, -86.81476),\n",
       " (36.15, -86.81502),\n",
       " (36.14985, -86.8152),\n",
       " (36.14976, -86.81526),\n",
       " (36.1495, -86.8153),\n",
       " (36.14949, -86.8153),\n",
       " (36.14927, -86.81525),\n",
       " (36.14912, -86.81517),\n",
       " (36.14863, -86.81479),\n",
       " (36.14843, -86.8147)]"
      ]
     },
     "execution_count": 6,
     "metadata": {},
     "output_type": "execute_result"
    }
   ],
   "source": [
    "coordinates"
   ]
  },
  {
   "cell_type": "code",
   "execution_count": null,
   "id": "83a2109f-da58-44b6-b2f5-cd26b36d16c0",
   "metadata": {},
   "outputs": [],
   "source": []
  }
 ],
 "metadata": {
  "kernelspec": {
   "display_name": "Python 3 (ipykernel)",
   "language": "python",
   "name": "python3"
  },
  "language_info": {
   "codemirror_mode": {
    "name": "ipython",
    "version": 3
   },
   "file_extension": ".py",
   "mimetype": "text/x-python",
   "name": "python",
   "nbconvert_exporter": "python",
   "pygments_lexer": "ipython3",
   "version": "3.9.13"
  }
 },
 "nbformat": 4,
 "nbformat_minor": 5
}
